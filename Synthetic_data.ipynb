{
 "cells": [
  {
   "cell_type": "code",
   "execution_count": 6,
   "id": "dde5d907-29e3-4bc8-b019-73c10a5b2f24",
   "metadata": {},
   "outputs": [],
   "source": [
    "import cv2\n",
    "import numpy as np\n",
    "import random\n",
    "import os\n",
    "def generate_unmarked_checkbox(add_noise=False):\n",
    "    image = np.zeros((40, 40, 3), dtype=np.uint8) + 255  # White background\n",
    "    cv2.rectangle(image, (5, 5), (35, 35), (0, 0, 0), 2)  # Draw checkbox border\n",
    "\n",
    "    if add_noise:\n",
    "        # Add minor noise/marks inside the checkbox\n",
    "        num_noise_points = random.randint(1, 3)  # Limit the number of noise points to keep it minimal\n",
    "        for _ in range(num_noise_points):\n",
    "            x_noise = random.randint(5, 35)\n",
    "            y_noise = random.randint(5, 35)\n",
    "            noise_color = random.choice([(0, 0, 0), (255, 255, 255)])  # Black or white noise\n",
    "            cv2.circle(image, (x_noise, y_noise), 1, noise_color, -1)  # Tiny dot as noise\n",
    "\n",
    "    return image\n",
    "\n",
    "# Specify the directory where you want to save the images\n",
    "save_directory = \"C:\\\\Users\\\\shrih\\\\anaconda3\\\\jupyter\\\\InnovationPractices\\\\unmarked\" # Update this path\n",
    "if not os.path.exists(save_directory):\n",
    "    os.makedirs(save_directory)\n",
    "\n",
    "# Example usage\n",
    "num_images = 1000  # Adjust as needed for your dataset size\n",
    "for i in range(num_images):\n",
    "    # Randomly decide whether to add noise to some of the unmarked checkboxes\n",
    "    add_noise = random.choice([True, False])\n",
    "    checkbox_image = generate_unmarked_checkbox(add_noise=add_noise)\n",
    "    # Save or display the checkbox image. Example saving:\n",
    "    filename = f\"unmarked_checkbox_{i}.png\"\n",
    "    cv2.imwrite(filename, checkbox_image)"
   ]
  }
 ],
 "metadata": {
  "kernelspec": {
   "display_name": "Python 3 (ipykernel)",
   "language": "python",
   "name": "python3"
  },
  "language_info": {
   "codemirror_mode": {
    "name": "ipython",
    "version": 3
   },
   "file_extension": ".py",
   "mimetype": "text/x-python",
   "name": "python",
   "nbconvert_exporter": "python",
   "pygments_lexer": "ipython3",
   "version": "3.11.5"
  }
 },
 "nbformat": 4,
 "nbformat_minor": 5
}
