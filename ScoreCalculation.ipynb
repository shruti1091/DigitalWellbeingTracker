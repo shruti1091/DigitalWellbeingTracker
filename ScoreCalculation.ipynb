{
 "cells": [
  {
   "cell_type": "code",
   "execution_count": 1,
   "id": "357f33c8-02d5-4a3e-996f-f6cc1b1e7c30",
   "metadata": {},
   "outputs": [
    {
     "name": "stdout",
     "output_type": "stream",
     "text": [
      "Average Screen Time Score over the period: 70.00\n"
     ]
    }
   ],
   "source": [
    "screen_time_scores = {\n",
    "    1: 100,  # 2-3 hours\n",
    "    2: 75,   # 3-5 hours\n",
    "    3: 50,   # 5-8 hours\n",
    "    4: 25    # more than 8 hours\n",
    "}\n",
    "\n",
    "import pandas as pd\n",
    "\n",
    "df = pd.read_csv('classified_checkboxes.csv')\n",
    "\n",
    "# Filter the DataFrame for screen time-related entries\n",
    "screen_time_df = df[df['group_number'].isin([1, 2, 3, 4])]\n",
    "\n",
    "\n",
    "# Initialize an empty list to store scores for all 31 days\n",
    "daily_scores = []\n",
    "\n",
    "# Assuming entries are sorted chronologically and by group_number\n",
    "for i in range(0, len(screen_time_df), 31):  # Step through the dataframe in blocks of 31\n",
    "    # Extract a block of 31 for the current `group_number`\n",
    "    block = screen_time_df[i:i+31]\n",
    "    \n",
    "    # Assuming 'marked' column exists and indicates if the option was selected\n",
    "    # We look for the highest group_number marked within each day-block\n",
    "    marked_blocks = block[block['classification'] == 1]  # Filter out only marked\n",
    "    if not marked_blocks.empty:\n",
    "        highest_group_number = marked_blocks['group_number'].max()\n",
    "        daily_scores.append(screen_time_scores[highest_group_number])\n",
    "    else:\n",
    "        # Consider default or minimum score if no option is marked\n",
    "        daily_scores.append(screen_time_scores[min(screen_time_scores.keys())])\n",
    "\n",
    "# Calculate the average score over the period\n",
    "average_score = sum(daily_scores) / len(daily_scores)\n",
    "print(f\"Average Screen Time Score over the period: {average_score:.2f}\")\n",
    "\n"
   ]
  },
  {
   "cell_type": "code",
   "execution_count": 2,
   "id": "b23fa104-d292-4f98-8eae-089c58b69b1a",
   "metadata": {},
   "outputs": [
    {
     "name": "stdout",
     "output_type": "stream",
     "text": [
      "Average Haleness Score over the period: 0.00\n"
     ]
    }
   ],
   "source": [
    "haleness_scores = {\n",
    "    5: 33.33,  # Eye break rule\n",
    "    6: 33.33,  # Exposure to sun\n",
    "    7: 33.33   # Enable dark mode at night\n",
    "}\n",
    "\n",
    "# Filter DataFrame for Haleness-related entries\n",
    "haleness_df = df[df['group_number'].isin([5, 6, 7])]\n",
    "\n",
    "# Initialize a list to store Haleness scores for each day\n",
    "haleness_daily_scores = [0] * 31  # Assuming a month of 31 days\n",
    "\n",
    "for i in range(0, len(haleness_df), 93):  # Step through the dataframe in blocks of 93 (3 subparts * 31 days)\n",
    "    for day in range(31):  # For each day\n",
    "        # Extract entries for the current day within the block\n",
    "        day_entries = haleness_df.iloc[i + day::31]  # Skip every 31 entries to get the same day across subparts\n",
    "        \n",
    "        # Calculate the day's score based on marked entries\n",
    "        day_score = sum(haleness_scores[gn] for gn, marked in zip(day_entries['group_number'], day_entries['classification']) if marked == 1)\n",
    "        \n",
    "        # Store the calculated score\n",
    "        haleness_daily_scores[day] += day_score\n",
    "\n",
    "# Calculate the average Haleness score over the period\n",
    "average_haleness_score = sum(haleness_daily_scores) / len(haleness_daily_scores)\n",
    "print(f\"Average Haleness Score over the period: {average_haleness_score:.2f}\")\n"
   ]
  },
  {
   "cell_type": "code",
   "execution_count": 3,
   "id": "ded1ce0a-aa0b-4b33-8f4c-9e59504983d1",
   "metadata": {},
   "outputs": [
    {
     "name": "stdout",
     "output_type": "stream",
     "text": [
      "Average Water Consumption Score over the period: 0.00\n"
     ]
    }
   ],
   "source": [
    "water_consumption_scores = {\n",
    "    8: 25,  # less than 1 litre\n",
    "    9: 75,  # less than 2 litres\n",
    "    10: 100  # less than 5 litres\n",
    "}\n",
    "\n",
    "# Filter DataFrame for Water Consumption-related entries\n",
    "water_df = df[df['group_number'].isin([8, 9, 10])]\n",
    "\n",
    "# Initialize a list to store Water Consumption scores for each day\n",
    "water_daily_scores = [0] * 31  # Assuming a month of 31 days\n",
    "\n",
    "for i in range(0, len(water_df), 93):  # Step through the dataframe in blocks of 93 (3 categories * 31 days)\n",
    "    for day in range(31):  # For each day\n",
    "        # Extract entries for the current day within the block\n",
    "        day_entries = water_df.iloc[i + day::32]  # Skip every 31 entries to get the same day across categories\n",
    "        \n",
    "        # Calculate the day's score based on marked entries\n",
    "        # Considering the minimum score among selected options\n",
    "        day_scores = [water_consumption_scores[gn] for gn, marked in zip(day_entries['group_number'], day_entries['classification']) if marked == 1]\n",
    "        \n",
    "        # If multiple selections, consider the minimum score (worst case)\n",
    "        if day_scores:\n",
    "            day_min_score = min(day_scores)\n",
    "        else:\n",
    "            # Default to 0 if no selection is marked\n",
    "            day_min_score = 0\n",
    "        \n",
    "        # Store the calculated score\n",
    "        water_daily_scores[day] += day_min_score\n",
    "\n",
    "# Calculate the average Water Consumption score over the period\n",
    "average_water_score = sum(water_daily_scores) / len(water_daily_scores)\n",
    "print(f\"Average Water Consumption Score over the period: {average_water_score:.2f}\")\n"
   ]
  },
  {
   "cell_type": "code",
   "execution_count": 4,
   "id": "dffe76c9-c783-4088-8f87-c1163a6d3716",
   "metadata": {},
   "outputs": [
    {
     "name": "stdout",
     "output_type": "stream",
     "text": [
      "Average Physical and Mental Hassle Score over the period: 100.00\n"
     ]
    }
   ],
   "source": [
    "# Since unmarked values contribute positively, and marked values contribute 0,\n",
    "# the score for each hassle when it is NOT reported (unmarked) is defined here.\n",
    "hassle_scores = {\n",
    "    11: 20,  # eye strain\n",
    "    12: 20,  # back pain\n",
    "    13: 20,  # stressed out\n",
    "    14: 20,  # battery anxiety\n",
    "    15: 20   # thumb and wrist discomfort\n",
    "}\n",
    "\n",
    "# Filter DataFrame for Physical and Mental Hassle-related entries\n",
    "hassle_df = df[df['group_number'].isin([11, 12, 13, 14, 15])]\n",
    "\n",
    "# Assuming each group_number has 32 relevant entries, with the 32nd to be ignored.\n",
    "# Initialize a list to store daily scores\n",
    "daily_hassle_scores = [0] * 31  # Assuming a month of 31 days\n",
    "\n",
    "for i in range(0, len(hassle_df), 160):  # 5 categories * 32 entries\n",
    "    for day in range(31):  # For each day\n",
    "        # Extract entries for the current day across all hassle categories\n",
    "        day_entries = hassle_df.iloc[i + day::32]  # Skip every 32 entries to align the same day\n",
    "        \n",
    "        # Calculate the day's score based on unmarked entries\n",
    "        day_score = sum(hassle_scores[gn] for gn in day_entries[day_entries['classification'] == 0]['group_number'])\n",
    "        \n",
    "        # Store the calculated score\n",
    "        daily_hassle_scores[day] += day_score\n",
    "\n",
    "# Calculate the average score over the period\n",
    "average_hassle_score = sum(daily_hassle_scores) / len(daily_hassle_scores)\n",
    "print(f\"Average Physical and Mental Hassle Score over the period: {average_hassle_score:.2f}\")\n"
   ]
  },
  {
   "cell_type": "code",
   "execution_count": 5,
   "id": "5989e55c-615c-4902-8fc2-8f5b77d1e8a8",
   "metadata": {},
   "outputs": [
    {
     "name": "stdout",
     "output_type": "stream",
     "text": [
      "Average Screen Free Meal Score over the period: 0.00\n"
     ]
    }
   ],
   "source": [
    "meal_scores = {\n",
    "    16: 33.33,  # breakfast\n",
    "    17: 33.33,  # lunch\n",
    "    18: 33.33   # dinner\n",
    "}\n",
    "\n",
    "# Filter DataFrame for Screen Free Meal-related entries\n",
    "meal_df = df[df['group_number'].isin([16, 17, 18])]\n",
    "\n",
    "# Assuming each group_number has 32 relevant entries, with the 32nd to be ignored.\n",
    "# Initialize a list to store daily scores for screen-free meals\n",
    "daily_meal_scores = [0] * 31  # Assuming a month of 31 days\n",
    "\n",
    "for i in range(0, len(meal_df), 96):  # 3 categories * 32 entries\n",
    "    for day in range(31):  # For each day\n",
    "        # Extract entries for the current day across all meal categories\n",
    "        day_entries = meal_df.iloc[i + day::32]  # Skip every 32 entries to align the same day\n",
    "        \n",
    "        # Calculate the day's score based on marked entries (screen-free meals)\n",
    "        day_score = sum(meal_scores[gn] for gn in day_entries[day_entries['classification'] == 1]['group_number'])\n",
    "        \n",
    "        # Store the calculated score\n",
    "        daily_meal_scores[day] += day_score\n",
    "\n",
    "# Calculate the average score over the period for screen-free meals\n",
    "average_meal_score = sum(daily_meal_scores) / len(daily_meal_scores)\n",
    "print(f\"Average Screen Free Meal Score over the period: {average_meal_score:.2f}\")\n"
   ]
  },
  {
   "cell_type": "code",
   "execution_count": 6,
   "id": "ed1f1f46-b62c-441e-a779-1b0c9ff21efe",
   "metadata": {},
   "outputs": [
    {
     "name": "stdout",
     "output_type": "stream",
     "text": [
      "Average Meal Time Journal Score over the period: 0.00\n"
     ]
    }
   ],
   "source": [
    "meal_time_combinations = {\n",
    "    (19, 20): 100,  # 6-8 am & 6-8 pm\n",
    "    (19, 22): 85,   # 6-8 am & 8-10 pm\n",
    "    (19, 24): 70,   # 6-8 am & 10-11 pm\n",
    "    (21, 20): 85,   # 8-10 am & 6-8 pm\n",
    "    (21, 22): 70,   # 8-10 am & 8-10 pm\n",
    "    (21, 24): 55,   # 8-10 am & 10-11 pm\n",
    "    (23, 20): 70,   # 10-11 am & 6-8 pm\n",
    "    (23, 22): 55,   # 10-11 am & 8-10 pm\n",
    "    (23, 24): 40    # 10-11 am & 10-11 pm\n",
    "}\n",
    "# Assume an additional fallback score for days when only one meal is marked\n",
    "fallback_scores = {\n",
    "    19: 50,  # 6-8 am\n",
    "    20: 50,  # 6-8 pm\n",
    "    21: 40,  # 8-10 am\n",
    "    22: 40,  # 8-10 pm\n",
    "    23: 30,  # 10-11 am\n",
    "    24: 30   # 10-11 pm\n",
    "}\n",
    "\n",
    "# Filter DataFrame for Meal Time-related entries\n",
    "meal_time_df = df[df['group_number'].isin([19, 20, 21, 22, 23, 24])]\n",
    "\n",
    "# Initialize daily meal time scores, assuming 31 days for simplicity\n",
    "daily_meal_time_scores = []\n",
    "\n",
    "# Iterate through meal_time_df in blocks representing each day's entries\n",
    "for i in range(0, len(meal_time_df), 192):  # Adjust iteration for the actual data structure\n",
    "    # Identify marked parameters for the day\n",
    "    marked_params = meal_time_df.iloc[i:i+32][meal_time_df.iloc[i:i+32]['classification'] == 1]['group_number']\n",
    "\n",
    "    day_score = 0\n",
    "    # Check for direct combination matches first\n",
    "    for combo, score in meal_time_combinations.items():\n",
    "        if set(combo).issubset(marked_params.values):\n",
    "            day_score = score\n",
    "            break\n",
    "    # If no direct match found, apply fallback scoring for single marked meals\n",
    "    if day_score == 0:\n",
    "        for param in marked_params:\n",
    "            day_score += fallback_scores.get(param, 0)\n",
    "            # Break after first match since we only consider one meal for fallback\n",
    "            break\n",
    "\n",
    "    daily_meal_time_scores.append(day_score)\n",
    "\n",
    "# Calculate and print the average Meal Time Journal score\n",
    "average_meal_time_score = sum(daily_meal_time_scores) / len(daily_meal_time_scores)\n",
    "print(f\"Average Meal Time Journal Score over the period: {average_meal_time_score:.2f}\")"
   ]
  },
  {
   "cell_type": "code",
   "execution_count": 7,
   "id": "632983ab-51a0-4ae8-95d8-bb7edc9e8566",
   "metadata": {},
   "outputs": [
    {
     "name": "stdout",
     "output_type": "stream",
     "text": [
      "Average Sleep Quality Score over the period: 100.00\n"
     ]
    }
   ],
   "source": [
    "sleep_quality_scores = {\n",
    "    25: 100,  # deep sleep - more than 7 hours\n",
    "    26: 50,   # light sleep - less than 5 hours\n",
    "    27: 25    # often awake - less than 3 hours\n",
    "}\n",
    "\n",
    "# Filter DataFrame for Sleep Quality-related entries\n",
    "sleep_df = df[df['group_number'].isin([25, 26, 27])]\n",
    "\n",
    "# Assuming each group_number has 32 relevant entries, with the 32nd to be ignored.\n",
    "# Initialize a list to store daily scores for sleep quality\n",
    "daily_sleep_scores = [0] * 31  # Assuming a month of 31 days\n",
    "\n",
    "for i in range(0, len(sleep_df), 96):  # 3 categories * 32 entries\n",
    "    for day in range(31):  # For each day\n",
    "        # Extract entries for the current day across all sleep quality categories\n",
    "        day_entries = sleep_df.iloc[i + day::32]  # Skip every 32 entries to align the same day\n",
    "        \n",
    "        # Calculate the day's score based on the minimum score among marked entries (reflecting the worst condition marked)\n",
    "        if not day_entries[day_entries['classification'] == 1].empty:\n",
    "            min_group_number_marked = day_entries[day_entries['classification'] == 1]['group_number'].min()\n",
    "            day_score = sleep_quality_scores.get(min_group_number_marked, 0)  # Get the score, default to 0 if none marked\n",
    "            daily_sleep_scores[day] = day_score\n",
    "        else:\n",
    "            # Consider the day as deep sleep if no conditions are marked\n",
    "            daily_sleep_scores[day] = sleep_quality_scores[25]\n",
    "\n",
    "# Calculate the average Sleep Quality score over the period\n",
    "average_sleep_score = sum(daily_sleep_scores) / len(daily_sleep_scores)\n",
    "print(f\"Average Sleep Quality Score over the period: {average_sleep_score:.2f}\")\n"
   ]
  },
  {
   "cell_type": "code",
   "execution_count": 8,
   "id": "8ac2ca5a-e70e-490b-931c-dcb8bd70c84c",
   "metadata": {},
   "outputs": [
    {
     "name": "stdout",
     "output_type": "stream",
     "text": [
      "Average Social Interaction Score over the period: 0.00\n"
     ]
    }
   ],
   "source": [
    "social_interaction_scores = {\n",
    "    28: 25,  # more on social media\n",
    "    29: 100  # more in person conversation\n",
    "}\n",
    "\n",
    "# Filter DataFrame for Social Interaction-related entries\n",
    "social_df = df[df['group_number'].isin([28, 29])]\n",
    "\n",
    "# Initialize daily social interaction scores, assuming 31 days for simplicity\n",
    "daily_social_scores = [0] * 31\n",
    "\n",
    "for i in range(0, len(social_df), 64):  # 2 categories * 32 entries (assuming extra entry to be ignored)\n",
    "    for day in range(31):  # For each day\n",
    "        # Extract entries for the current day across all social interaction categories\n",
    "        day_entries = social_df.iloc[i + day::32]  # Skip every 32 entries to align the same day\n",
    "        \n",
    "        # Filter 'day_entries' for 'in person conversation' being marked\n",
    "        in_person_marked = day_entries[(day_entries['group_number'] == 29) & (day_entries['classification'] == 1)]\n",
    "        \n",
    "        # Filter 'day_entries' for 'social media' being marked\n",
    "        social_media_marked = day_entries[(day_entries['group_number'] == 28) & (day_entries['classification'] == 1)]\n",
    "        \n",
    "        if not in_person_marked.empty:  # If any 'in person conversation' is marked\n",
    "            daily_social_scores[day] = social_interaction_scores[29]\n",
    "        elif not social_media_marked.empty:  # If any 'social media' is marked\n",
    "            daily_social_scores[day] = social_interaction_scores[28]\n",
    "        else:\n",
    "            daily_social_scores[day] = 0  # No social interaction marked\n",
    "\n",
    "# Calculate the average Social Interaction score over the period\n",
    "average_social_score = sum(daily_social_scores) / len(daily_social_scores)\n",
    "print(f\"Average Social Interaction Score over the period: {average_social_score:.2f}\")\n"
   ]
  },
  {
   "cell_type": "code",
   "execution_count": 9,
   "id": "91b59528-ec02-40d5-a387-5caac29a7042",
   "metadata": {},
   "outputs": [
    {
     "name": "stdout",
     "output_type": "stream",
     "text": [
      "The final digital wellbeing score is: 44.0\n"
     ]
    }
   ],
   "source": [
    "# Scores out of 100 for each category\n",
    "score_screen_time = average_score  # Your calculated score for Screen Time\n",
    "score_haleness = average_haleness_score  # Your calculated score for Haleness\n",
    "score_water_consumption = average_water_score  # Your calculated score for Water Consumption\n",
    "score_physical_mental_hassle = average_hassle_score  # Your calculated score for Physical and Mental Hassle\n",
    "score_screen_free_meals = average_meal_score  # Your calculated score for Screen Free Meals\n",
    "score_meal_time_journal = average_meal_time_score  # Your calculated score for Meal Time Journal\n",
    "score_sleep_quality = average_sleep_score  # Your calculated score for Sleep Quality Indicators\n",
    "score_social_interaction = average_social_score  # Your calculated score for Social Interaction\n",
    "\n",
    "# Weightage of each category towards the final score\n",
    "weight_screen_time = 0.20\n",
    "weight_haleness = 0.15\n",
    "weight_water_consumption = 0.10\n",
    "weight_physical_mental_hassle = 0.15\n",
    "weight_screen_free_meals = 0.10\n",
    "weight_meal_time_journal = 0.05\n",
    "weight_sleep_quality = 0.15\n",
    "weight_social_interaction = 0.10\n",
    "\n",
    "# Calculate the final score\n",
    "final_score = (score_screen_time * weight_screen_time + \n",
    "               score_haleness * weight_haleness + \n",
    "               score_water_consumption * weight_water_consumption + \n",
    "               score_physical_mental_hassle * weight_physical_mental_hassle + \n",
    "               score_screen_free_meals * weight_screen_free_meals + \n",
    "               score_meal_time_journal * weight_meal_time_journal + \n",
    "               score_sleep_quality * weight_sleep_quality + \n",
    "               score_social_interaction * weight_social_interaction)\n",
    "\n",
    "print(f\"The final digital wellbeing score is: {final_score}\")\n"
   ]
  }
 ],
 "metadata": {
  "kernelspec": {
   "display_name": "Python 3 (ipykernel)",
   "language": "python",
   "name": "python3"
  },
  "language_info": {
   "codemirror_mode": {
    "name": "ipython",
    "version": 3
   },
   "file_extension": ".py",
   "mimetype": "text/x-python",
   "name": "python",
   "nbconvert_exporter": "python",
   "pygments_lexer": "ipython3",
   "version": "3.11.5"
  }
 },
 "nbformat": 4,
 "nbformat_minor": 5
}
